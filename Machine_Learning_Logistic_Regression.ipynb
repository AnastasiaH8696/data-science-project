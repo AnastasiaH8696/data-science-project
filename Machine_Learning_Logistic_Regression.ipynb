{
 "cells": [
  {
   "cell_type": "markdown",
   "id": "b1e6b6e1",
   "metadata": {},
   "source": [
    "# Wild Fires caused by the weather\n",
    "## Part 4: Machine Learning"
   ]
  },
  {
   "cell_type": "markdown",
   "id": "b14cb870",
   "metadata": {},
   "source": [
    "In this part, we will use machine learning to verify our research.<br>\n",
    "The type of machine learning we will use is <b>Supervised Learning</b>.<br>\n",
    "The label type is <b>Classification Problems</b>.<br>\n",
    "The Algorithm we will use to predict our findings is <b>Logistic Regression</b>.<br>"
   ]
  },
  {
   "cell_type": "markdown",
   "id": "058916c8",
   "metadata": {},
   "source": [
    "#### Preceding Step - import modules (packages)\n",
    "This step is necessary in order to use external packages. "
   ]
  },
  {
   "cell_type": "code",
   "execution_count": 1,
   "id": "9aedae0a",
   "metadata": {},
   "outputs": [],
   "source": [
    "import pandas as pd\n",
    "import sklearn\n",
    "from sklearn.model_selection import train_test_split\n",
    "from sklearn.preprocessing import StandardScaler, MinMaxScaler\n",
    "from sklearn.linear_model import LogisticRegression\n",
    "from sklearn import linear_model\n",
    "from sklearn import metrics"
   ]
  },
  {
   "cell_type": "markdown",
   "id": "8d13681f",
   "metadata": {},
   "source": [
    "#### Global variables and constants\n",
    "Here we define our global variables we will use in this notebook"
   ]
  },
  {
   "cell_type": "code",
   "execution_count": 2,
   "id": "816ea41f",
   "metadata": {},
   "outputs": [],
   "source": [
    "FIRE_HISTORY_CSV = \"Wildfire_history_final.csv\"\n",
    "NUMERIC_COLS = ['InitialLatitude','InitialLongitude','FireDuration','Temperature', 'MaxTemperature', 'MinTemperature','WindSpeed','WindDirection','Humidity','CausedByWeather']\n",
    "TO_PREDICT_COL = 'CausedByWeather'"
   ]
  },
  {
   "cell_type": "markdown",
   "id": "033a30ff",
   "metadata": {},
   "source": [
    "### Data Preperation\n",
    "In this part we will load our final CSV to a data frame. <br>\n",
    "From the data frame, we will create a new data frame with only relevant columns. <br>\n",
    "We will prepare TRAINING_FEATURES, TARGET_FEATURE, X and y for the data splitting part. "
   ]
  },
  {
   "cell_type": "code",
   "execution_count": 3,
   "id": "af586090",
   "metadata": {},
   "outputs": [
    {
     "data": {
      "text/html": [
       "<div>\n",
       "<style scoped>\n",
       "    .dataframe tbody tr th:only-of-type {\n",
       "        vertical-align: middle;\n",
       "    }\n",
       "\n",
       "    .dataframe tbody tr th {\n",
       "        vertical-align: top;\n",
       "    }\n",
       "\n",
       "    .dataframe thead th {\n",
       "        text-align: right;\n",
       "    }\n",
       "</style>\n",
       "<table border=\"1\" class=\"dataframe\">\n",
       "  <thead>\n",
       "    <tr style=\"text-align: right;\">\n",
       "      <th></th>\n",
       "      <th>UniqueFireIdentifier</th>\n",
       "      <th>FireDiscoveryDateTime</th>\n",
       "      <th>FireOutDateTime</th>\n",
       "      <th>POOCounty</th>\n",
       "      <th>InitialLatitude</th>\n",
       "      <th>InitialLongitude</th>\n",
       "      <th>FireCause</th>\n",
       "      <th>FireDuration</th>\n",
       "      <th>CausedByWeather</th>\n",
       "      <th>Temperature</th>\n",
       "      <th>MaxTemperature</th>\n",
       "      <th>MinTemperature</th>\n",
       "      <th>WindSpeed</th>\n",
       "      <th>WindDirection</th>\n",
       "      <th>Humidity</th>\n",
       "    </tr>\n",
       "  </thead>\n",
       "  <tbody>\n",
       "    <tr>\n",
       "      <th>0</th>\n",
       "      <td>2020-MTLG42-000224</td>\n",
       "      <td>2020-08-06T18:58:00</td>\n",
       "      <td>2020-08-12T14:00:00</td>\n",
       "      <td>Carter</td>\n",
       "      <td>45.78496</td>\n",
       "      <td>-104.49580</td>\n",
       "      <td>2</td>\n",
       "      <td>6</td>\n",
       "      <td>0</td>\n",
       "      <td>25.9</td>\n",
       "      <td>34.0</td>\n",
       "      <td>16.5</td>\n",
       "      <td>21.9</td>\n",
       "      <td>206.63</td>\n",
       "      <td>46.67</td>\n",
       "    </tr>\n",
       "    <tr>\n",
       "      <th>1</th>\n",
       "      <td>2017-MTNWS-000878</td>\n",
       "      <td>2017-10-17T20:20:24</td>\n",
       "      <td>2017-11-09T21:59:59</td>\n",
       "      <td>Flathead</td>\n",
       "      <td>48.07167</td>\n",
       "      <td>-114.83030</td>\n",
       "      <td>2</td>\n",
       "      <td>23</td>\n",
       "      <td>0</td>\n",
       "      <td>6.1</td>\n",
       "      <td>12.9</td>\n",
       "      <td>-3.3</td>\n",
       "      <td>13.9</td>\n",
       "      <td>119.55</td>\n",
       "      <td>64.20</td>\n",
       "    </tr>\n",
       "    <tr>\n",
       "      <th>2</th>\n",
       "      <td>2020-MSMNF-000308</td>\n",
       "      <td>2020-11-23T19:17:00</td>\n",
       "      <td>2020-11-30T14:29:59</td>\n",
       "      <td>Perry</td>\n",
       "      <td>31.06819</td>\n",
       "      <td>-89.06972</td>\n",
       "      <td>2</td>\n",
       "      <td>7</td>\n",
       "      <td>0</td>\n",
       "      <td>10.3</td>\n",
       "      <td>22.7</td>\n",
       "      <td>0.6</td>\n",
       "      <td>11.2</td>\n",
       "      <td>104.88</td>\n",
       "      <td>78.07</td>\n",
       "    </tr>\n",
       "    <tr>\n",
       "      <th>3</th>\n",
       "      <td>2019-AZA5S-001664</td>\n",
       "      <td>2019-09-05T19:17:00</td>\n",
       "      <td>2019-09-09T17:00:00</td>\n",
       "      <td>Yavapai</td>\n",
       "      <td>34.40333</td>\n",
       "      <td>-112.43940</td>\n",
       "      <td>1</td>\n",
       "      <td>4</td>\n",
       "      <td>1</td>\n",
       "      <td>24.6</td>\n",
       "      <td>33.1</td>\n",
       "      <td>16.8</td>\n",
       "      <td>11.2</td>\n",
       "      <td>197.58</td>\n",
       "      <td>45.06</td>\n",
       "    </tr>\n",
       "    <tr>\n",
       "      <th>4</th>\n",
       "      <td>2020-IDNCF-000071</td>\n",
       "      <td>2020-04-20T21:33:59</td>\n",
       "      <td>2020-04-21T03:00:00</td>\n",
       "      <td>Idaho</td>\n",
       "      <td>45.41833</td>\n",
       "      <td>-116.16610</td>\n",
       "      <td>2</td>\n",
       "      <td>1</td>\n",
       "      <td>0</td>\n",
       "      <td>8.6</td>\n",
       "      <td>15.7</td>\n",
       "      <td>0.7</td>\n",
       "      <td>8.9</td>\n",
       "      <td>195.88</td>\n",
       "      <td>53.81</td>\n",
       "    </tr>\n",
       "  </tbody>\n",
       "</table>\n",
       "</div>"
      ],
      "text/plain": [
       "  UniqueFireIdentifier FireDiscoveryDateTime      FireOutDateTime POOCounty  \\\n",
       "0   2020-MTLG42-000224   2020-08-06T18:58:00  2020-08-12T14:00:00    Carter   \n",
       "1    2017-MTNWS-000878   2017-10-17T20:20:24  2017-11-09T21:59:59  Flathead   \n",
       "2    2020-MSMNF-000308   2020-11-23T19:17:00  2020-11-30T14:29:59     Perry   \n",
       "3    2019-AZA5S-001664   2019-09-05T19:17:00  2019-09-09T17:00:00   Yavapai   \n",
       "4    2020-IDNCF-000071   2020-04-20T21:33:59  2020-04-21T03:00:00     Idaho   \n",
       "\n",
       "   InitialLatitude  InitialLongitude  FireCause  FireDuration  \\\n",
       "0         45.78496        -104.49580          2             6   \n",
       "1         48.07167        -114.83030          2            23   \n",
       "2         31.06819         -89.06972          2             7   \n",
       "3         34.40333        -112.43940          1             4   \n",
       "4         45.41833        -116.16610          2             1   \n",
       "\n",
       "   CausedByWeather  Temperature  MaxTemperature  MinTemperature  WindSpeed  \\\n",
       "0                0         25.9            34.0            16.5       21.9   \n",
       "1                0          6.1            12.9            -3.3       13.9   \n",
       "2                0         10.3            22.7             0.6       11.2   \n",
       "3                1         24.6            33.1            16.8       11.2   \n",
       "4                0          8.6            15.7             0.7        8.9   \n",
       "\n",
       "   WindDirection  Humidity  \n",
       "0         206.63     46.67  \n",
       "1         119.55     64.20  \n",
       "2         104.88     78.07  \n",
       "3         197.58     45.06  \n",
       "4         195.88     53.81  "
      ]
     },
     "execution_count": 3,
     "metadata": {},
     "output_type": "execute_result"
    }
   ],
   "source": [
    "df = pd.read_csv(FIRE_HISTORY_CSV)\n",
    "df.head()"
   ]
  },
  {
   "cell_type": "markdown",
   "id": "ba2cd747",
   "metadata": {},
   "source": [
    "Now we will create a new data frame with only numeric and relevant columns:"
   ]
  },
  {
   "cell_type": "code",
   "execution_count": 4,
   "id": "acac4052",
   "metadata": {},
   "outputs": [
    {
     "data": {
      "text/html": [
       "<div>\n",
       "<style scoped>\n",
       "    .dataframe tbody tr th:only-of-type {\n",
       "        vertical-align: middle;\n",
       "    }\n",
       "\n",
       "    .dataframe tbody tr th {\n",
       "        vertical-align: top;\n",
       "    }\n",
       "\n",
       "    .dataframe thead th {\n",
       "        text-align: right;\n",
       "    }\n",
       "</style>\n",
       "<table border=\"1\" class=\"dataframe\">\n",
       "  <thead>\n",
       "    <tr style=\"text-align: right;\">\n",
       "      <th></th>\n",
       "      <th>InitialLatitude</th>\n",
       "      <th>InitialLongitude</th>\n",
       "      <th>FireDuration</th>\n",
       "      <th>Temperature</th>\n",
       "      <th>MaxTemperature</th>\n",
       "      <th>MinTemperature</th>\n",
       "      <th>WindSpeed</th>\n",
       "      <th>WindDirection</th>\n",
       "      <th>Humidity</th>\n",
       "      <th>CausedByWeather</th>\n",
       "    </tr>\n",
       "  </thead>\n",
       "  <tbody>\n",
       "    <tr>\n",
       "      <th>0</th>\n",
       "      <td>45.78496</td>\n",
       "      <td>-104.49580</td>\n",
       "      <td>6</td>\n",
       "      <td>25.9</td>\n",
       "      <td>34.0</td>\n",
       "      <td>16.5</td>\n",
       "      <td>21.9</td>\n",
       "      <td>206.63</td>\n",
       "      <td>46.67</td>\n",
       "      <td>0</td>\n",
       "    </tr>\n",
       "    <tr>\n",
       "      <th>1</th>\n",
       "      <td>48.07167</td>\n",
       "      <td>-114.83030</td>\n",
       "      <td>23</td>\n",
       "      <td>6.1</td>\n",
       "      <td>12.9</td>\n",
       "      <td>-3.3</td>\n",
       "      <td>13.9</td>\n",
       "      <td>119.55</td>\n",
       "      <td>64.20</td>\n",
       "      <td>0</td>\n",
       "    </tr>\n",
       "    <tr>\n",
       "      <th>2</th>\n",
       "      <td>31.06819</td>\n",
       "      <td>-89.06972</td>\n",
       "      <td>7</td>\n",
       "      <td>10.3</td>\n",
       "      <td>22.7</td>\n",
       "      <td>0.6</td>\n",
       "      <td>11.2</td>\n",
       "      <td>104.88</td>\n",
       "      <td>78.07</td>\n",
       "      <td>0</td>\n",
       "    </tr>\n",
       "    <tr>\n",
       "      <th>3</th>\n",
       "      <td>34.40333</td>\n",
       "      <td>-112.43940</td>\n",
       "      <td>4</td>\n",
       "      <td>24.6</td>\n",
       "      <td>33.1</td>\n",
       "      <td>16.8</td>\n",
       "      <td>11.2</td>\n",
       "      <td>197.58</td>\n",
       "      <td>45.06</td>\n",
       "      <td>1</td>\n",
       "    </tr>\n",
       "    <tr>\n",
       "      <th>4</th>\n",
       "      <td>45.41833</td>\n",
       "      <td>-116.16610</td>\n",
       "      <td>1</td>\n",
       "      <td>8.6</td>\n",
       "      <td>15.7</td>\n",
       "      <td>0.7</td>\n",
       "      <td>8.9</td>\n",
       "      <td>195.88</td>\n",
       "      <td>53.81</td>\n",
       "      <td>0</td>\n",
       "    </tr>\n",
       "  </tbody>\n",
       "</table>\n",
       "</div>"
      ],
      "text/plain": [
       "   InitialLatitude  InitialLongitude  FireDuration  Temperature  \\\n",
       "0         45.78496        -104.49580             6         25.9   \n",
       "1         48.07167        -114.83030            23          6.1   \n",
       "2         31.06819         -89.06972             7         10.3   \n",
       "3         34.40333        -112.43940             4         24.6   \n",
       "4         45.41833        -116.16610             1          8.6   \n",
       "\n",
       "   MaxTemperature  MinTemperature  WindSpeed  WindDirection  Humidity  \\\n",
       "0            34.0            16.5       21.9         206.63     46.67   \n",
       "1            12.9            -3.3       13.9         119.55     64.20   \n",
       "2            22.7             0.6       11.2         104.88     78.07   \n",
       "3            33.1            16.8       11.2         197.58     45.06   \n",
       "4            15.7             0.7        8.9         195.88     53.81   \n",
       "\n",
       "   CausedByWeather  \n",
       "0                0  \n",
       "1                0  \n",
       "2                0  \n",
       "3                1  \n",
       "4                0  "
      ]
     },
     "execution_count": 4,
     "metadata": {},
     "output_type": "execute_result"
    }
   ],
   "source": [
    "df_copy=df[NUMERIC_COLS].copy()\n",
    "df_copy.head()"
   ]
  },
  {
   "cell_type": "code",
   "execution_count": 5,
   "id": "b3e73337",
   "metadata": {},
   "outputs": [],
   "source": [
    "TRAINING_FEATURES = df_copy.columns[df_copy.columns != TO_PREDICT_COL]\n",
    "TARGET_FEATURE    = TO_PREDICT_COL\n",
    "\n",
    "X = df_copy[TRAINING_FEATURES]\n",
    "y = df_copy[TARGET_FEATURE]"
   ]
  },
  {
   "cell_type": "code",
   "execution_count": 6,
   "id": "0d2b0b7c",
   "metadata": {},
   "outputs": [
    {
     "data": {
      "text/html": [
       "<div>\n",
       "<style scoped>\n",
       "    .dataframe tbody tr th:only-of-type {\n",
       "        vertical-align: middle;\n",
       "    }\n",
       "\n",
       "    .dataframe tbody tr th {\n",
       "        vertical-align: top;\n",
       "    }\n",
       "\n",
       "    .dataframe thead th {\n",
       "        text-align: right;\n",
       "    }\n",
       "</style>\n",
       "<table border=\"1\" class=\"dataframe\">\n",
       "  <thead>\n",
       "    <tr style=\"text-align: right;\">\n",
       "      <th></th>\n",
       "      <th>InitialLatitude</th>\n",
       "      <th>InitialLongitude</th>\n",
       "      <th>FireDuration</th>\n",
       "      <th>Temperature</th>\n",
       "      <th>MaxTemperature</th>\n",
       "      <th>MinTemperature</th>\n",
       "      <th>WindSpeed</th>\n",
       "      <th>WindDirection</th>\n",
       "      <th>Humidity</th>\n",
       "    </tr>\n",
       "  </thead>\n",
       "  <tbody>\n",
       "    <tr>\n",
       "      <th>0</th>\n",
       "      <td>45.78496</td>\n",
       "      <td>-104.49580</td>\n",
       "      <td>6</td>\n",
       "      <td>25.9</td>\n",
       "      <td>34.0</td>\n",
       "      <td>16.5</td>\n",
       "      <td>21.9</td>\n",
       "      <td>206.63</td>\n",
       "      <td>46.67</td>\n",
       "    </tr>\n",
       "    <tr>\n",
       "      <th>1</th>\n",
       "      <td>48.07167</td>\n",
       "      <td>-114.83030</td>\n",
       "      <td>23</td>\n",
       "      <td>6.1</td>\n",
       "      <td>12.9</td>\n",
       "      <td>-3.3</td>\n",
       "      <td>13.9</td>\n",
       "      <td>119.55</td>\n",
       "      <td>64.20</td>\n",
       "    </tr>\n",
       "    <tr>\n",
       "      <th>2</th>\n",
       "      <td>31.06819</td>\n",
       "      <td>-89.06972</td>\n",
       "      <td>7</td>\n",
       "      <td>10.3</td>\n",
       "      <td>22.7</td>\n",
       "      <td>0.6</td>\n",
       "      <td>11.2</td>\n",
       "      <td>104.88</td>\n",
       "      <td>78.07</td>\n",
       "    </tr>\n",
       "    <tr>\n",
       "      <th>3</th>\n",
       "      <td>34.40333</td>\n",
       "      <td>-112.43940</td>\n",
       "      <td>4</td>\n",
       "      <td>24.6</td>\n",
       "      <td>33.1</td>\n",
       "      <td>16.8</td>\n",
       "      <td>11.2</td>\n",
       "      <td>197.58</td>\n",
       "      <td>45.06</td>\n",
       "    </tr>\n",
       "    <tr>\n",
       "      <th>4</th>\n",
       "      <td>45.41833</td>\n",
       "      <td>-116.16610</td>\n",
       "      <td>1</td>\n",
       "      <td>8.6</td>\n",
       "      <td>15.7</td>\n",
       "      <td>0.7</td>\n",
       "      <td>8.9</td>\n",
       "      <td>195.88</td>\n",
       "      <td>53.81</td>\n",
       "    </tr>\n",
       "  </tbody>\n",
       "</table>\n",
       "</div>"
      ],
      "text/plain": [
       "   InitialLatitude  InitialLongitude  FireDuration  Temperature  \\\n",
       "0         45.78496        -104.49580             6         25.9   \n",
       "1         48.07167        -114.83030            23          6.1   \n",
       "2         31.06819         -89.06972             7         10.3   \n",
       "3         34.40333        -112.43940             4         24.6   \n",
       "4         45.41833        -116.16610             1          8.6   \n",
       "\n",
       "   MaxTemperature  MinTemperature  WindSpeed  WindDirection  Humidity  \n",
       "0            34.0            16.5       21.9         206.63     46.67  \n",
       "1            12.9            -3.3       13.9         119.55     64.20  \n",
       "2            22.7             0.6       11.2         104.88     78.07  \n",
       "3            33.1            16.8       11.2         197.58     45.06  \n",
       "4            15.7             0.7        8.9         195.88     53.81  "
      ]
     },
     "execution_count": 6,
     "metadata": {},
     "output_type": "execute_result"
    }
   ],
   "source": [
    "X.head()"
   ]
  },
  {
   "cell_type": "code",
   "execution_count": 7,
   "id": "0f4c5588",
   "metadata": {},
   "outputs": [
    {
     "data": {
      "text/plain": [
       "0    0\n",
       "1    0\n",
       "2    0\n",
       "3    1\n",
       "4    0\n",
       "Name: CausedByWeather, dtype: int64"
      ]
     },
     "execution_count": 7,
     "metadata": {},
     "output_type": "execute_result"
    }
   ],
   "source": [
    "y.head()"
   ]
  },
  {
   "cell_type": "markdown",
   "id": "b383fb80",
   "metadata": {},
   "source": [
    "### Splitting the Data\n",
    "In this part we will split our data to Train and Test parts. <br>\n",
    "We will take 20% of the data for Test, and 80% of the data for Train."
   ]
  },
  {
   "cell_type": "code",
   "execution_count": 8,
   "id": "6f83312d",
   "metadata": {},
   "outputs": [
    {
     "name": "stdout",
     "output_type": "stream",
     "text": [
      "Initial amount of samples: #42759\n",
      "Number of training samples: #38483\n",
      "Number of test samples: #4276\n",
      "\n",
      "Target distribution in original dataset:\n",
      "0    28073\n",
      "1    14686\n",
      "Name: CausedByWeather, dtype: int64\n",
      "\n",
      "Target distribution in the training set:\n",
      "0    25233\n",
      "1    13250\n",
      "Name: CausedByWeather, dtype: int64\n",
      "\n",
      "Target distribution in the test set:\n",
      "0    2840\n",
      "1    1436\n",
      "Name: CausedByWeather, dtype: int64\n"
     ]
    }
   ],
   "source": [
    "X_train, X_test, y_train, y_test = train_test_split(X, y, test_size=0.2, random_state=42)\n",
    "\n",
    "print(\"Initial amount of samples: #{}\".format(X.shape[0]))\n",
    "print(\"Number of training samples: #{}\".format(X_train.shape[0]))\n",
    "print(\"Number of test samples: #{}\".format(X_test.shape[0]))\n",
    "\n",
    "print(\"\\nTarget distribution in original dataset:\\n{}\".format(y.value_counts()))\n",
    "print(\"\\nTarget distribution in the training set:\\n{}\\n\".format(y_train.value_counts()))\n",
    "print(\"Target distribution in the test set:\\n{}\".format(y_test.value_counts()))"
   ]
  },
  {
   "cell_type": "markdown",
   "id": "85ee2f6f",
   "metadata": {},
   "source": [
    "### Scaling (MinMax and Standard Scalers)\n",
    "Now that we're done with our train and test sets, it is time to do some pre-processing on our data."
   ]
  },
  {
   "cell_type": "markdown",
   "id": "934b8e6c",
   "metadata": {},
   "source": [
    "#### Standard Scale"
   ]
  },
  {
   "cell_type": "code",
   "execution_count": 9,
   "id": "d94514c2",
   "metadata": {},
   "outputs": [],
   "source": [
    "scaler = StandardScaler()\n",
    "X_train_scaled = scaler.fit_transform(X_train)\n",
    "X_test_scaled = scaler.transform(X_test)"
   ]
  },
  {
   "cell_type": "markdown",
   "id": "3aa241f0",
   "metadata": {},
   "source": [
    "X_train_scaled"
   ]
  },
  {
   "cell_type": "code",
   "execution_count": 10,
   "id": "15643aa3",
   "metadata": {},
   "outputs": [
    {
     "name": "stdout",
     "output_type": "stream",
     "text": [
      "Mean:  [ 1.39660246e-15 -1.07385509e-15  5.05908348e-17 -3.32348550e-18\n",
      "  7.38552333e-18 -1.82422426e-16 -4.65287970e-17  1.99409130e-17\n",
      " -3.51366272e-16]\n",
      "Standard Deviation:  [1. 1. 1. 1. 1. 1. 1. 1. 1.]\n"
     ]
    },
    {
     "data": {
      "text/plain": [
       "array([[-0.65412676,  1.27057203,  0.79295891, ...,  0.44565202,\n",
       "        -0.278077  ,  1.37580426],\n",
       "       [-1.2226919 ,  0.03321462, -0.14683357, ...,  1.95270513,\n",
       "         1.37712237,  0.21305596],\n",
       "       [-0.63490448,  0.22058588, -0.52275056, ...,  0.38616308,\n",
       "        -0.29730694,  0.39430629],\n",
       "       ...,\n",
       "       [ 1.24998695, -0.36655074,  1.1688759 , ..., -1.04157146,\n",
       "         1.14493864, -0.59158563],\n",
       "       [ 3.7763151 , -2.66182938, -0.89866755, ..., -1.75543872,\n",
       "        -2.27674448,  1.59220616],\n",
       "       [-1.18843908, -0.01485013, -0.89866755, ..., -0.58548959,\n",
       "         0.77689893,  0.75570845]])"
      ]
     },
     "execution_count": 10,
     "metadata": {},
     "output_type": "execute_result"
    }
   ],
   "source": [
    "print(\"Mean: \", X_train_scaled.mean(axis=0))\n",
    "print(\"Standard Deviation: \", X_train_scaled.std(axis=0))\n",
    "X_train_scaled"
   ]
  },
  {
   "cell_type": "markdown",
   "id": "650ef22e",
   "metadata": {},
   "source": [
    "X_test_scaled"
   ]
  },
  {
   "cell_type": "code",
   "execution_count": 11,
   "id": "5d1d3eb9",
   "metadata": {},
   "outputs": [
    {
     "name": "stdout",
     "output_type": "stream",
     "text": [
      "Mean:  [ 0.01150959 -0.02728041 -0.01597472  0.01586534  0.01968206  0.00436603\n",
      "  0.01133361  0.02840789 -0.02417686]\n",
      "Standard Deviation:  [0.97164131 0.91619072 0.99468412 0.99319884 0.99658128 0.99251806\n",
      " 1.00634473 1.00946418 0.9905386 ]\n"
     ]
    }
   ],
   "source": [
    "print(\"Mean: \", X_test_scaled.mean(axis=0))\n",
    "print(\"Standard Deviation: \", X_test_scaled.std(axis=0))"
   ]
  },
  {
   "cell_type": "markdown",
   "id": "1ecd1268",
   "metadata": {},
   "source": [
    "#### MinMax scale"
   ]
  },
  {
   "cell_type": "code",
   "execution_count": 12,
   "id": "67e5c242",
   "metadata": {},
   "outputs": [],
   "source": [
    "min_max_scaler = MinMaxScaler(feature_range=(0, 1))\n",
    "X_train_scaled_in_range = min_max_scaler.fit_transform(X_train)\n",
    "X_test_scaled_in_range = min_max_scaler.transform(X_test)"
   ]
  },
  {
   "cell_type": "markdown",
   "id": "47d63cbc",
   "metadata": {},
   "source": [
    "X_train_scaled_in_range"
   ]
  },
  {
   "cell_type": "code",
   "execution_count": 13,
   "id": "d00024e6",
   "metadata": {},
   "outputs": [
    {
     "name": "stdout",
     "output_type": "stream",
     "text": [
      "Min Value:  [0. 0. 0. 0. 0. 0. 0. 0. 0.]\n",
      "Max Value:  [1. 1. 1. 1. 1. 1. 1. 1. 1.]\n"
     ]
    }
   ],
   "source": [
    "print(\"Min Value: \", X_train_scaled_in_range.min(axis=0))\n",
    "print(\"Max Value: \", X_train_scaled_in_range.max(axis=0))"
   ]
  },
  {
   "cell_type": "markdown",
   "id": "5e5e7587",
   "metadata": {},
   "source": [
    "X_test_scaled_in_range"
   ]
  },
  {
   "cell_type": "code",
   "execution_count": 14,
   "id": "9079fbbd",
   "metadata": {},
   "outputs": [
    {
     "name": "stdout",
     "output_type": "stream",
     "text": [
      "Min Value:  [0.0025663  0.0268728  0.         0.00258398 0.         0.\n",
      " 0.09407666 0.00525126 0.01317578]\n",
      "Max Value:  [0.98406411 0.93585686 1.         1.00258398 0.99054374 0.99726776\n",
      " 1.         0.97823052 0.96538743]\n"
     ]
    }
   ],
   "source": [
    "print(\"Min Value: \", X_test_scaled_in_range.min(axis=0))\n",
    "print(\"Max Value: \", X_test_scaled_in_range.max(axis=0))"
   ]
  },
  {
   "cell_type": "markdown",
   "id": "99810ca1",
   "metadata": {},
   "source": [
    "### Apply Machine Learning Algorithm - Train\n",
    "In this part, we will train our algorithm"
   ]
  },
  {
   "cell_type": "code",
   "execution_count": 15,
   "id": "cdbbbc94",
   "metadata": {},
   "outputs": [
    {
     "data": {
      "text/plain": [
       "LogisticRegression(max_iter=3000)"
      ]
     },
     "execution_count": 15,
     "metadata": {},
     "output_type": "execute_result"
    }
   ],
   "source": [
    "clf_model=LogisticRegression(max_iter=3000)\n",
    "clf_model.fit(X_train,y_train)"
   ]
  },
  {
   "cell_type": "markdown",
   "id": "6d0eba8c",
   "metadata": {},
   "source": [
    "### Apply Machine Learning Algorithm - Predict\n",
    "Now we will use the classifier model ( clfmodelclfmodel ) and apply it on new data ($X_test) in order to predict its labels"
   ]
  },
  {
   "cell_type": "code",
   "execution_count": 16,
   "id": "4fda000a",
   "metadata": {},
   "outputs": [],
   "source": [
    "y_pred=clf_model.predict(X_test)"
   ]
  },
  {
   "cell_type": "markdown",
   "id": "d757206a",
   "metadata": {},
   "source": [
    "Results:"
   ]
  },
  {
   "cell_type": "code",
   "execution_count": 17,
   "id": "ec3f0912",
   "metadata": {},
   "outputs": [
    {
     "data": {
      "text/html": [
       "<div>\n",
       "<style scoped>\n",
       "    .dataframe tbody tr th:only-of-type {\n",
       "        vertical-align: middle;\n",
       "    }\n",
       "\n",
       "    .dataframe tbody tr th {\n",
       "        vertical-align: top;\n",
       "    }\n",
       "\n",
       "    .dataframe thead th {\n",
       "        text-align: right;\n",
       "    }\n",
       "</style>\n",
       "<table border=\"1\" class=\"dataframe\">\n",
       "  <thead>\n",
       "    <tr style=\"text-align: right;\">\n",
       "      <th></th>\n",
       "      <th>Actual</th>\n",
       "      <th>Predicted</th>\n",
       "      <th>correct</th>\n",
       "    </tr>\n",
       "  </thead>\n",
       "  <tbody>\n",
       "    <tr>\n",
       "      <th>27891</th>\n",
       "      <td>0</td>\n",
       "      <td>0</td>\n",
       "      <td>1</td>\n",
       "    </tr>\n",
       "    <tr>\n",
       "      <th>21167</th>\n",
       "      <td>0</td>\n",
       "      <td>0</td>\n",
       "      <td>1</td>\n",
       "    </tr>\n",
       "    <tr>\n",
       "      <th>7616</th>\n",
       "      <td>1</td>\n",
       "      <td>1</td>\n",
       "      <td>1</td>\n",
       "    </tr>\n",
       "    <tr>\n",
       "      <th>231</th>\n",
       "      <td>0</td>\n",
       "      <td>0</td>\n",
       "      <td>1</td>\n",
       "    </tr>\n",
       "    <tr>\n",
       "      <th>4159</th>\n",
       "      <td>1</td>\n",
       "      <td>0</td>\n",
       "      <td>0</td>\n",
       "    </tr>\n",
       "    <tr>\n",
       "      <th>...</th>\n",
       "      <td>...</td>\n",
       "      <td>...</td>\n",
       "      <td>...</td>\n",
       "    </tr>\n",
       "    <tr>\n",
       "      <th>1426</th>\n",
       "      <td>0</td>\n",
       "      <td>0</td>\n",
       "      <td>1</td>\n",
       "    </tr>\n",
       "    <tr>\n",
       "      <th>928</th>\n",
       "      <td>0</td>\n",
       "      <td>0</td>\n",
       "      <td>1</td>\n",
       "    </tr>\n",
       "    <tr>\n",
       "      <th>2754</th>\n",
       "      <td>1</td>\n",
       "      <td>0</td>\n",
       "      <td>0</td>\n",
       "    </tr>\n",
       "    <tr>\n",
       "      <th>13399</th>\n",
       "      <td>0</td>\n",
       "      <td>0</td>\n",
       "      <td>1</td>\n",
       "    </tr>\n",
       "    <tr>\n",
       "      <th>16423</th>\n",
       "      <td>1</td>\n",
       "      <td>0</td>\n",
       "      <td>0</td>\n",
       "    </tr>\n",
       "  </tbody>\n",
       "</table>\n",
       "<p>4276 rows × 3 columns</p>\n",
       "</div>"
      ],
      "text/plain": [
       "       Actual  Predicted  correct\n",
       "27891       0          0        1\n",
       "21167       0          0        1\n",
       "7616        1          1        1\n",
       "231         0          0        1\n",
       "4159        1          0        0\n",
       "...       ...        ...      ...\n",
       "1426        0          0        1\n",
       "928         0          0        1\n",
       "2754        1          0        0\n",
       "13399       0          0        1\n",
       "16423       1          0        0\n",
       "\n",
       "[4276 rows x 3 columns]"
      ]
     },
     "execution_count": 17,
     "metadata": {},
     "output_type": "execute_result"
    }
   ],
   "source": [
    "resDF=pd.DataFrame({\"Actual\":y_test,\"Predicted\":y_pred})\n",
    "\n",
    "resDF[\"correct\"]=abs((resDF[\"Actual\"]^resDF[\"Predicted\"])-1)\n",
    "resDF[resDF[\"correct\"]==1]\n",
    "resDF"
   ]
  },
  {
   "cell_type": "code",
   "execution_count": 18,
   "id": "0f11f95c",
   "metadata": {},
   "outputs": [
    {
     "name": "stdout",
     "output_type": "stream",
     "text": [
      "67.6800748362956\n"
     ]
    }
   ],
   "source": [
    "accuracy = metrics.accuracy_score(y_test, y_pred)\n",
    "accuracy_percentage = 100 * accuracy\n",
    "print(accuracy_percentage)"
   ]
  }
 ],
 "metadata": {
  "kernelspec": {
   "display_name": "Python 3 (ipykernel)",
   "language": "python",
   "name": "python3"
  },
  "language_info": {
   "codemirror_mode": {
    "name": "ipython",
    "version": 3
   },
   "file_extension": ".py",
   "mimetype": "text/x-python",
   "name": "python",
   "nbconvert_exporter": "python",
   "pygments_lexer": "ipython3",
   "version": "3.9.12"
  }
 },
 "nbformat": 4,
 "nbformat_minor": 5
}
