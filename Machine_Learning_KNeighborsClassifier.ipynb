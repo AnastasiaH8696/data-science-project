{
 "cells": [
  {
   "cell_type": "markdown",
   "id": "cb3874ba",
   "metadata": {},
   "source": [
    "# Wild Fires caused by the weather\n",
    "## Part 4: Machine Learning"
   ]
  },
  {
   "cell_type": "markdown",
   "id": "12d41c20",
   "metadata": {},
   "source": [
    "In this part, we will use machine learning to verify our research.<br>\n",
    "The type of machine learning we will use is <b>Supervised Learning</b>.<br>\n",
    "The label type is <b>Classification Problems</b>.<br>\n",
    "The Algorithm we will use to predict our findings is <b>KNeighborsClassifier</b>.<br>"
   ]
  },
  {
   "cell_type": "markdown",
   "id": "3c18f002",
   "metadata": {},
   "source": [
    "#### Preceding Step - import modules (packages)\n",
    "This step is necessary in order to use external packages. "
   ]
  },
  {
   "cell_type": "code",
   "execution_count": 1,
   "id": "fc483033",
   "metadata": {},
   "outputs": [],
   "source": [
    "import pandas as pd\n",
    "import sklearn\n",
    "from sklearn.model_selection import train_test_split\n",
    "from sklearn.preprocessing import StandardScaler, MinMaxScaler\n",
    "from sklearn.neighbors import KNeighborsClassifier\n",
    "from sklearn import linear_model\n",
    "from sklearn import metrics\n",
    "from sklearn.model_selection import GridSearchCV\n",
    "from sklearn.metrics import make_scorer"
   ]
  },
  {
   "cell_type": "markdown",
   "id": "9de909ea",
   "metadata": {},
   "source": [
    "#### Global variables and constants\n",
    "Here we define our global variables we will use in this notebook"
   ]
  },
  {
   "cell_type": "code",
   "execution_count": 2,
   "id": "e8f0102f",
   "metadata": {},
   "outputs": [],
   "source": [
    "FIRE_HISTORY_CSV = \"Wildfire_history_final.csv\"\n",
    "NUMERIC_COLS = ['InitialLatitude','InitialLongitude','FireDuration','Temperature', 'MaxTemperature', 'MinTemperature','WindSpeed','WindDirection','Humidity','CausedByWeather']\n",
    "TO_PREDICT_COL = 'CausedByWeather'"
   ]
  },
  {
   "cell_type": "markdown",
   "id": "39e84ff5",
   "metadata": {},
   "source": [
    "### Data Preperation\n",
    "In this part we will load our final CSV to a data frame. <br>\n",
    "From the data frame, we will create a new data frame with only relevant columns. <br>\n",
    "We will prepare TRAINING_FEATURES, TARGET_FEATURE, X and y for the data splitting part. "
   ]
  },
  {
   "cell_type": "code",
   "execution_count": 3,
   "id": "a77cecad",
   "metadata": {},
   "outputs": [
    {
     "data": {
      "text/html": [
       "<div>\n",
       "<style scoped>\n",
       "    .dataframe tbody tr th:only-of-type {\n",
       "        vertical-align: middle;\n",
       "    }\n",
       "\n",
       "    .dataframe tbody tr th {\n",
       "        vertical-align: top;\n",
       "    }\n",
       "\n",
       "    .dataframe thead th {\n",
       "        text-align: right;\n",
       "    }\n",
       "</style>\n",
       "<table border=\"1\" class=\"dataframe\">\n",
       "  <thead>\n",
       "    <tr style=\"text-align: right;\">\n",
       "      <th></th>\n",
       "      <th>UniqueFireIdentifier</th>\n",
       "      <th>FireDiscoveryDateTime</th>\n",
       "      <th>FireOutDateTime</th>\n",
       "      <th>POOCounty</th>\n",
       "      <th>InitialLatitude</th>\n",
       "      <th>InitialLongitude</th>\n",
       "      <th>FireCause</th>\n",
       "      <th>FireDuration</th>\n",
       "      <th>CausedByWeather</th>\n",
       "      <th>Temperature</th>\n",
       "      <th>MaxTemperature</th>\n",
       "      <th>MinTemperature</th>\n",
       "      <th>WindSpeed</th>\n",
       "      <th>WindDirection</th>\n",
       "      <th>Humidity</th>\n",
       "    </tr>\n",
       "  </thead>\n",
       "  <tbody>\n",
       "    <tr>\n",
       "      <th>0</th>\n",
       "      <td>2020-MTLG42-000224</td>\n",
       "      <td>2020-08-06T18:58:00</td>\n",
       "      <td>2020-08-12T14:00:00</td>\n",
       "      <td>Carter</td>\n",
       "      <td>45.78496</td>\n",
       "      <td>-104.49580</td>\n",
       "      <td>2</td>\n",
       "      <td>6</td>\n",
       "      <td>0</td>\n",
       "      <td>25.9</td>\n",
       "      <td>34.0</td>\n",
       "      <td>16.5</td>\n",
       "      <td>21.9</td>\n",
       "      <td>206.63</td>\n",
       "      <td>46.67</td>\n",
       "    </tr>\n",
       "    <tr>\n",
       "      <th>1</th>\n",
       "      <td>2017-MTNWS-000878</td>\n",
       "      <td>2017-10-17T20:20:24</td>\n",
       "      <td>2017-11-09T21:59:59</td>\n",
       "      <td>Flathead</td>\n",
       "      <td>48.07167</td>\n",
       "      <td>-114.83030</td>\n",
       "      <td>2</td>\n",
       "      <td>23</td>\n",
       "      <td>0</td>\n",
       "      <td>6.1</td>\n",
       "      <td>12.9</td>\n",
       "      <td>-3.3</td>\n",
       "      <td>13.9</td>\n",
       "      <td>119.55</td>\n",
       "      <td>64.20</td>\n",
       "    </tr>\n",
       "    <tr>\n",
       "      <th>2</th>\n",
       "      <td>2020-MSMNF-000308</td>\n",
       "      <td>2020-11-23T19:17:00</td>\n",
       "      <td>2020-11-30T14:29:59</td>\n",
       "      <td>Perry</td>\n",
       "      <td>31.06819</td>\n",
       "      <td>-89.06972</td>\n",
       "      <td>2</td>\n",
       "      <td>7</td>\n",
       "      <td>0</td>\n",
       "      <td>10.3</td>\n",
       "      <td>22.7</td>\n",
       "      <td>0.6</td>\n",
       "      <td>11.2</td>\n",
       "      <td>104.88</td>\n",
       "      <td>78.07</td>\n",
       "    </tr>\n",
       "    <tr>\n",
       "      <th>3</th>\n",
       "      <td>2019-AZA5S-001664</td>\n",
       "      <td>2019-09-05T19:17:00</td>\n",
       "      <td>2019-09-09T17:00:00</td>\n",
       "      <td>Yavapai</td>\n",
       "      <td>34.40333</td>\n",
       "      <td>-112.43940</td>\n",
       "      <td>1</td>\n",
       "      <td>4</td>\n",
       "      <td>1</td>\n",
       "      <td>24.6</td>\n",
       "      <td>33.1</td>\n",
       "      <td>16.8</td>\n",
       "      <td>11.2</td>\n",
       "      <td>197.58</td>\n",
       "      <td>45.06</td>\n",
       "    </tr>\n",
       "    <tr>\n",
       "      <th>4</th>\n",
       "      <td>2020-IDNCF-000071</td>\n",
       "      <td>2020-04-20T21:33:59</td>\n",
       "      <td>2020-04-21T03:00:00</td>\n",
       "      <td>Idaho</td>\n",
       "      <td>45.41833</td>\n",
       "      <td>-116.16610</td>\n",
       "      <td>2</td>\n",
       "      <td>1</td>\n",
       "      <td>0</td>\n",
       "      <td>8.6</td>\n",
       "      <td>15.7</td>\n",
       "      <td>0.7</td>\n",
       "      <td>8.9</td>\n",
       "      <td>195.88</td>\n",
       "      <td>53.81</td>\n",
       "    </tr>\n",
       "  </tbody>\n",
       "</table>\n",
       "</div>"
      ],
      "text/plain": [
       "  UniqueFireIdentifier FireDiscoveryDateTime      FireOutDateTime POOCounty  \\\n",
       "0   2020-MTLG42-000224   2020-08-06T18:58:00  2020-08-12T14:00:00    Carter   \n",
       "1    2017-MTNWS-000878   2017-10-17T20:20:24  2017-11-09T21:59:59  Flathead   \n",
       "2    2020-MSMNF-000308   2020-11-23T19:17:00  2020-11-30T14:29:59     Perry   \n",
       "3    2019-AZA5S-001664   2019-09-05T19:17:00  2019-09-09T17:00:00   Yavapai   \n",
       "4    2020-IDNCF-000071   2020-04-20T21:33:59  2020-04-21T03:00:00     Idaho   \n",
       "\n",
       "   InitialLatitude  InitialLongitude  FireCause  FireDuration  \\\n",
       "0         45.78496        -104.49580          2             6   \n",
       "1         48.07167        -114.83030          2            23   \n",
       "2         31.06819         -89.06972          2             7   \n",
       "3         34.40333        -112.43940          1             4   \n",
       "4         45.41833        -116.16610          2             1   \n",
       "\n",
       "   CausedByWeather  Temperature  MaxTemperature  MinTemperature  WindSpeed  \\\n",
       "0                0         25.9            34.0            16.5       21.9   \n",
       "1                0          6.1            12.9            -3.3       13.9   \n",
       "2                0         10.3            22.7             0.6       11.2   \n",
       "3                1         24.6            33.1            16.8       11.2   \n",
       "4                0          8.6            15.7             0.7        8.9   \n",
       "\n",
       "   WindDirection  Humidity  \n",
       "0         206.63     46.67  \n",
       "1         119.55     64.20  \n",
       "2         104.88     78.07  \n",
       "3         197.58     45.06  \n",
       "4         195.88     53.81  "
      ]
     },
     "execution_count": 3,
     "metadata": {},
     "output_type": "execute_result"
    }
   ],
   "source": [
    "df = pd.read_csv(FIRE_HISTORY_CSV)\n",
    "df.head()"
   ]
  },
  {
   "cell_type": "markdown",
   "id": "160ec5e3",
   "metadata": {},
   "source": [
    "Now we will create a new data frame with only numeric and relevant columns:"
   ]
  },
  {
   "cell_type": "code",
   "execution_count": 4,
   "id": "116b9229",
   "metadata": {},
   "outputs": [
    {
     "data": {
      "text/html": [
       "<div>\n",
       "<style scoped>\n",
       "    .dataframe tbody tr th:only-of-type {\n",
       "        vertical-align: middle;\n",
       "    }\n",
       "\n",
       "    .dataframe tbody tr th {\n",
       "        vertical-align: top;\n",
       "    }\n",
       "\n",
       "    .dataframe thead th {\n",
       "        text-align: right;\n",
       "    }\n",
       "</style>\n",
       "<table border=\"1\" class=\"dataframe\">\n",
       "  <thead>\n",
       "    <tr style=\"text-align: right;\">\n",
       "      <th></th>\n",
       "      <th>InitialLatitude</th>\n",
       "      <th>InitialLongitude</th>\n",
       "      <th>FireDuration</th>\n",
       "      <th>Temperature</th>\n",
       "      <th>MaxTemperature</th>\n",
       "      <th>MinTemperature</th>\n",
       "      <th>WindSpeed</th>\n",
       "      <th>WindDirection</th>\n",
       "      <th>Humidity</th>\n",
       "      <th>CausedByWeather</th>\n",
       "    </tr>\n",
       "  </thead>\n",
       "  <tbody>\n",
       "    <tr>\n",
       "      <th>0</th>\n",
       "      <td>45.78496</td>\n",
       "      <td>-104.49580</td>\n",
       "      <td>6</td>\n",
       "      <td>25.9</td>\n",
       "      <td>34.0</td>\n",
       "      <td>16.5</td>\n",
       "      <td>21.9</td>\n",
       "      <td>206.63</td>\n",
       "      <td>46.67</td>\n",
       "      <td>0</td>\n",
       "    </tr>\n",
       "    <tr>\n",
       "      <th>1</th>\n",
       "      <td>48.07167</td>\n",
       "      <td>-114.83030</td>\n",
       "      <td>23</td>\n",
       "      <td>6.1</td>\n",
       "      <td>12.9</td>\n",
       "      <td>-3.3</td>\n",
       "      <td>13.9</td>\n",
       "      <td>119.55</td>\n",
       "      <td>64.20</td>\n",
       "      <td>0</td>\n",
       "    </tr>\n",
       "    <tr>\n",
       "      <th>2</th>\n",
       "      <td>31.06819</td>\n",
       "      <td>-89.06972</td>\n",
       "      <td>7</td>\n",
       "      <td>10.3</td>\n",
       "      <td>22.7</td>\n",
       "      <td>0.6</td>\n",
       "      <td>11.2</td>\n",
       "      <td>104.88</td>\n",
       "      <td>78.07</td>\n",
       "      <td>0</td>\n",
       "    </tr>\n",
       "    <tr>\n",
       "      <th>3</th>\n",
       "      <td>34.40333</td>\n",
       "      <td>-112.43940</td>\n",
       "      <td>4</td>\n",
       "      <td>24.6</td>\n",
       "      <td>33.1</td>\n",
       "      <td>16.8</td>\n",
       "      <td>11.2</td>\n",
       "      <td>197.58</td>\n",
       "      <td>45.06</td>\n",
       "      <td>1</td>\n",
       "    </tr>\n",
       "    <tr>\n",
       "      <th>4</th>\n",
       "      <td>45.41833</td>\n",
       "      <td>-116.16610</td>\n",
       "      <td>1</td>\n",
       "      <td>8.6</td>\n",
       "      <td>15.7</td>\n",
       "      <td>0.7</td>\n",
       "      <td>8.9</td>\n",
       "      <td>195.88</td>\n",
       "      <td>53.81</td>\n",
       "      <td>0</td>\n",
       "    </tr>\n",
       "  </tbody>\n",
       "</table>\n",
       "</div>"
      ],
      "text/plain": [
       "   InitialLatitude  InitialLongitude  FireDuration  Temperature  \\\n",
       "0         45.78496        -104.49580             6         25.9   \n",
       "1         48.07167        -114.83030            23          6.1   \n",
       "2         31.06819         -89.06972             7         10.3   \n",
       "3         34.40333        -112.43940             4         24.6   \n",
       "4         45.41833        -116.16610             1          8.6   \n",
       "\n",
       "   MaxTemperature  MinTemperature  WindSpeed  WindDirection  Humidity  \\\n",
       "0            34.0            16.5       21.9         206.63     46.67   \n",
       "1            12.9            -3.3       13.9         119.55     64.20   \n",
       "2            22.7             0.6       11.2         104.88     78.07   \n",
       "3            33.1            16.8       11.2         197.58     45.06   \n",
       "4            15.7             0.7        8.9         195.88     53.81   \n",
       "\n",
       "   CausedByWeather  \n",
       "0                0  \n",
       "1                0  \n",
       "2                0  \n",
       "3                1  \n",
       "4                0  "
      ]
     },
     "execution_count": 4,
     "metadata": {},
     "output_type": "execute_result"
    }
   ],
   "source": [
    "df_copy=df[NUMERIC_COLS].copy()\n",
    "df_copy.head()"
   ]
  },
  {
   "cell_type": "code",
   "execution_count": 5,
   "id": "f5cae157",
   "metadata": {},
   "outputs": [],
   "source": [
    "TRAINING_FEATURES = df_copy.columns[df_copy.columns != TO_PREDICT_COL]\n",
    "TARGET_FEATURE    = TO_PREDICT_COL\n",
    "\n",
    "X = df_copy[TRAINING_FEATURES]\n",
    "y = df_copy[TARGET_FEATURE]"
   ]
  },
  {
   "cell_type": "code",
   "execution_count": 6,
   "id": "cf6fbaac",
   "metadata": {},
   "outputs": [
    {
     "data": {
      "text/html": [
       "<div>\n",
       "<style scoped>\n",
       "    .dataframe tbody tr th:only-of-type {\n",
       "        vertical-align: middle;\n",
       "    }\n",
       "\n",
       "    .dataframe tbody tr th {\n",
       "        vertical-align: top;\n",
       "    }\n",
       "\n",
       "    .dataframe thead th {\n",
       "        text-align: right;\n",
       "    }\n",
       "</style>\n",
       "<table border=\"1\" class=\"dataframe\">\n",
       "  <thead>\n",
       "    <tr style=\"text-align: right;\">\n",
       "      <th></th>\n",
       "      <th>InitialLatitude</th>\n",
       "      <th>InitialLongitude</th>\n",
       "      <th>FireDuration</th>\n",
       "      <th>Temperature</th>\n",
       "      <th>MaxTemperature</th>\n",
       "      <th>MinTemperature</th>\n",
       "      <th>WindSpeed</th>\n",
       "      <th>WindDirection</th>\n",
       "      <th>Humidity</th>\n",
       "    </tr>\n",
       "  </thead>\n",
       "  <tbody>\n",
       "    <tr>\n",
       "      <th>0</th>\n",
       "      <td>45.78496</td>\n",
       "      <td>-104.49580</td>\n",
       "      <td>6</td>\n",
       "      <td>25.9</td>\n",
       "      <td>34.0</td>\n",
       "      <td>16.5</td>\n",
       "      <td>21.9</td>\n",
       "      <td>206.63</td>\n",
       "      <td>46.67</td>\n",
       "    </tr>\n",
       "    <tr>\n",
       "      <th>1</th>\n",
       "      <td>48.07167</td>\n",
       "      <td>-114.83030</td>\n",
       "      <td>23</td>\n",
       "      <td>6.1</td>\n",
       "      <td>12.9</td>\n",
       "      <td>-3.3</td>\n",
       "      <td>13.9</td>\n",
       "      <td>119.55</td>\n",
       "      <td>64.20</td>\n",
       "    </tr>\n",
       "    <tr>\n",
       "      <th>2</th>\n",
       "      <td>31.06819</td>\n",
       "      <td>-89.06972</td>\n",
       "      <td>7</td>\n",
       "      <td>10.3</td>\n",
       "      <td>22.7</td>\n",
       "      <td>0.6</td>\n",
       "      <td>11.2</td>\n",
       "      <td>104.88</td>\n",
       "      <td>78.07</td>\n",
       "    </tr>\n",
       "    <tr>\n",
       "      <th>3</th>\n",
       "      <td>34.40333</td>\n",
       "      <td>-112.43940</td>\n",
       "      <td>4</td>\n",
       "      <td>24.6</td>\n",
       "      <td>33.1</td>\n",
       "      <td>16.8</td>\n",
       "      <td>11.2</td>\n",
       "      <td>197.58</td>\n",
       "      <td>45.06</td>\n",
       "    </tr>\n",
       "    <tr>\n",
       "      <th>4</th>\n",
       "      <td>45.41833</td>\n",
       "      <td>-116.16610</td>\n",
       "      <td>1</td>\n",
       "      <td>8.6</td>\n",
       "      <td>15.7</td>\n",
       "      <td>0.7</td>\n",
       "      <td>8.9</td>\n",
       "      <td>195.88</td>\n",
       "      <td>53.81</td>\n",
       "    </tr>\n",
       "  </tbody>\n",
       "</table>\n",
       "</div>"
      ],
      "text/plain": [
       "   InitialLatitude  InitialLongitude  FireDuration  Temperature  \\\n",
       "0         45.78496        -104.49580             6         25.9   \n",
       "1         48.07167        -114.83030            23          6.1   \n",
       "2         31.06819         -89.06972             7         10.3   \n",
       "3         34.40333        -112.43940             4         24.6   \n",
       "4         45.41833        -116.16610             1          8.6   \n",
       "\n",
       "   MaxTemperature  MinTemperature  WindSpeed  WindDirection  Humidity  \n",
       "0            34.0            16.5       21.9         206.63     46.67  \n",
       "1            12.9            -3.3       13.9         119.55     64.20  \n",
       "2            22.7             0.6       11.2         104.88     78.07  \n",
       "3            33.1            16.8       11.2         197.58     45.06  \n",
       "4            15.7             0.7        8.9         195.88     53.81  "
      ]
     },
     "execution_count": 6,
     "metadata": {},
     "output_type": "execute_result"
    }
   ],
   "source": [
    "X.head()"
   ]
  },
  {
   "cell_type": "code",
   "execution_count": 7,
   "id": "113dc495",
   "metadata": {},
   "outputs": [
    {
     "data": {
      "text/plain": [
       "0    0\n",
       "1    0\n",
       "2    0\n",
       "3    1\n",
       "4    0\n",
       "Name: CausedByWeather, dtype: int64"
      ]
     },
     "execution_count": 7,
     "metadata": {},
     "output_type": "execute_result"
    }
   ],
   "source": [
    "y.head()"
   ]
  },
  {
   "cell_type": "markdown",
   "id": "a5c89ac4",
   "metadata": {},
   "source": [
    "### Splitting the Data\n",
    "In this part we will split our data to Train and Test parts. <br>\n",
    "We will take 20% of the data for Test, and 80% of the data for Train."
   ]
  },
  {
   "cell_type": "code",
   "execution_count": 8,
   "id": "a79f3234",
   "metadata": {},
   "outputs": [
    {
     "name": "stdout",
     "output_type": "stream",
     "text": [
      "Initial amount of samples: #42759\n",
      "Number of training samples: #34207\n",
      "Number of test samples: #8552\n",
      "\n",
      "Target distribution in original dataset:\n",
      "0    28073\n",
      "1    14686\n",
      "Name: CausedByWeather, dtype: int64\n",
      "\n",
      "Target distribution in the training set:\n",
      "0    22470\n",
      "1    11737\n",
      "Name: CausedByWeather, dtype: int64\n",
      "\n",
      "Target distribution in the test set:\n",
      "0    5603\n",
      "1    2949\n",
      "Name: CausedByWeather, dtype: int64\n"
     ]
    }
   ],
   "source": [
    "X_train, X_test, y_train, y_test = train_test_split(X, y, test_size=0.2, random_state=1)\n",
    "\n",
    "print(\"Initial amount of samples: #{}\".format(X.shape[0]))\n",
    "print(\"Number of training samples: #{}\".format(X_train.shape[0]))\n",
    "print(\"Number of test samples: #{}\".format(X_test.shape[0]))\n",
    "\n",
    "print(\"\\nTarget distribution in original dataset:\\n{}\".format(y.value_counts()))\n",
    "print(\"\\nTarget distribution in the training set:\\n{}\\n\".format(y_train.value_counts()))\n",
    "print(\"Target distribution in the test set:\\n{}\".format(y_test.value_counts()))"
   ]
  },
  {
   "cell_type": "markdown",
   "id": "40a8771e",
   "metadata": {},
   "source": [
    "### Scaling (MinMax and Standard Scalers)\n",
    "Now that we're done with our train and test sets, it is time to do some pre-processing on our data."
   ]
  },
  {
   "cell_type": "markdown",
   "id": "90ba8608",
   "metadata": {},
   "source": [
    "#### Standard Scale"
   ]
  },
  {
   "cell_type": "code",
   "execution_count": 9,
   "id": "414ee896",
   "metadata": {},
   "outputs": [],
   "source": [
    "scaler = StandardScaler()\n",
    "X_train_scaled = scaler.fit_transform(X_train)\n",
    "X_test_scaled = scaler.transform(X_test)"
   ]
  },
  {
   "cell_type": "markdown",
   "id": "7f30fe00",
   "metadata": {},
   "source": [
    "X_train_scaled"
   ]
  },
  {
   "cell_type": "code",
   "execution_count": 10,
   "id": "4d15b0c0",
   "metadata": {},
   "outputs": [
    {
     "name": "stdout",
     "output_type": "stream",
     "text": [
      "Mean:  [-8.46764540e-16 -1.72406370e-16 -1.06975037e-17 -3.30895600e-16\n",
      "  4.11698103e-16 -1.95878563e-16  8.60993259e-17 -7.06658399e-16\n",
      " -1.22865504e-16]\n",
      "Standard Deviation:  [1. 1. 1. 1. 1. 1. 1. 1. 1.]\n"
     ]
    },
    {
     "data": {
      "text/plain": [
       "array([[ 0.50579337, -0.3906906 , -0.89536798, ..., -0.62636099,\n",
       "        -0.37510522,  0.3837452 ],\n",
       "       [ 0.2600988 , -0.82346572,  0.42614889, ...,  0.34605114,\n",
       "         1.41398213, -0.33779933],\n",
       "       [ 0.42248198,  1.82007075, -0.89536798, ...,  0.64372832,\n",
       "         1.88926116,  0.76783735],\n",
       "       ...,\n",
       "       [ 1.03345124, -0.33212965, -0.51779173, ..., -0.5866707 ,\n",
       "        -0.00226773, -1.01544762],\n",
       "       [-0.14788378,  0.3735255 , -0.51779173, ...,  0.08806425,\n",
       "        -0.04452265,  0.01117582],\n",
       "       [-1.12310081, -0.28023449,  0.61493701, ..., -1.47970224,\n",
       "        -0.28118568, -1.1559156 ]])"
      ]
     },
     "execution_count": 10,
     "metadata": {},
     "output_type": "execute_result"
    }
   ],
   "source": [
    "print(\"Mean: \", X_train_scaled.mean(axis=0))\n",
    "print(\"Standard Deviation: \", X_train_scaled.std(axis=0))\n",
    "X_train_scaled"
   ]
  },
  {
   "cell_type": "markdown",
   "id": "d9cbb6d5",
   "metadata": {},
   "source": [
    "X_test_scaled"
   ]
  },
  {
   "cell_type": "code",
   "execution_count": 11,
   "id": "971440ae",
   "metadata": {},
   "outputs": [
    {
     "name": "stdout",
     "output_type": "stream",
     "text": [
      "Mean:  [ 3.68666806e-05 -4.77232707e-03  2.83074972e-02  4.98362875e-03\n",
      "  1.99951018e-03  9.38913701e-03  2.05392009e-03 -8.93930570e-03\n",
      " -2.58525684e-03]\n",
      "Standard Deviation:  [0.99941715 1.0141077  1.01900024 1.00590762 1.01339049 0.99587841\n",
      " 1.00709897 0.9904357  0.99046764]\n"
     ]
    }
   ],
   "source": [
    "print(\"Mean: \", X_test_scaled.mean(axis=0))\n",
    "print(\"Standard Deviation: \", X_test_scaled.std(axis=0))"
   ]
  },
  {
   "cell_type": "markdown",
   "id": "05e4f7ee",
   "metadata": {},
   "source": [
    "#### MinMax scale"
   ]
  },
  {
   "cell_type": "code",
   "execution_count": 12,
   "id": "d8878526",
   "metadata": {},
   "outputs": [],
   "source": [
    "min_max_scaler = MinMaxScaler(feature_range=(0, 1))\n",
    "X_train_scaled_in_range = min_max_scaler.fit_transform(X_train)\n",
    "X_test_scaled_in_range = min_max_scaler.transform(X_test)"
   ]
  },
  {
   "cell_type": "markdown",
   "id": "1e3f9c79",
   "metadata": {},
   "source": [
    "X_train_scaled_in_range"
   ]
  },
  {
   "cell_type": "code",
   "execution_count": 13,
   "id": "ae05edc6",
   "metadata": {},
   "outputs": [
    {
     "name": "stdout",
     "output_type": "stream",
     "text": [
      "Min Value:  [0. 0. 0. 0. 0. 0. 0. 0. 0.]\n",
      "Max Value:  [1. 1. 1. 1. 1. 1. 1. 1. 1.]\n"
     ]
    }
   ],
   "source": [
    "print(\"Min Value: \", X_train_scaled_in_range.min(axis=0))\n",
    "print(\"Max Value: \", X_train_scaled_in_range.max(axis=0))"
   ]
  },
  {
   "cell_type": "markdown",
   "id": "d87515de",
   "metadata": {},
   "source": [
    "X_test_scaled_in_range"
   ]
  },
  {
   "cell_type": "code",
   "execution_count": 14,
   "id": "ec70ff73",
   "metadata": {},
   "outputs": [
    {
     "name": "stdout",
     "output_type": "stream",
     "text": [
      "Min Value:  [0.0050433  0.02298946 0.         0.00257732 0.         0.\n",
      " 0.05923345 0.00179922 0.01317578]\n",
      "Max Value:  [0.99736627 0.9434093  1.         0.98195876 0.99763593 1.\n",
      " 1.         1.00249892 0.99247098]\n"
     ]
    }
   ],
   "source": [
    "print(\"Min Value: \", X_test_scaled_in_range.min(axis=0))\n",
    "print(\"Max Value: \", X_test_scaled_in_range.max(axis=0))"
   ]
  },
  {
   "cell_type": "markdown",
   "id": "c82e9003",
   "metadata": {},
   "source": [
    "### Finding the best K\n",
    "In this part, we will use cross-validation in order to find the best K for our algorithm. <br>\n",
    "The maximum K we will use will be less than the squre root value of the X_train which is 184(square root of 34207 is 184.951..)"
   ]
  },
  {
   "cell_type": "code",
   "execution_count": 17,
   "id": "5e4ede10",
   "metadata": {},
   "outputs": [
    {
     "name": "stdout",
     "output_type": "stream",
     "text": [
      "best parameter set is: {'n_neighbors': 15}  and its score was 0.7651357743331096\n"
     ]
    }
   ],
   "source": [
    "parameters = {'n_neighbors':range(1,150,2) }\n",
    "knn = KNeighborsClassifier()\n",
    "clf = GridSearchCV(knn, parameters,scoring=make_scorer(metrics.accuracy_score, greater_is_better=True))\n",
    "clf.fit(X_train, y_train)\n",
    "\n",
    "print(\"best parameter set is:\",clf.best_params_,\" and its score was\",clf.best_score_)"
   ]
  },
  {
   "cell_type": "markdown",
   "id": "6c0a805e",
   "metadata": {},
   "source": [
    "### Apply the Algorithm\n",
    "In this part we will predict by using the K value we found above"
   ]
  },
  {
   "cell_type": "code",
   "execution_count": 21,
   "id": "c6220c2b",
   "metadata": {},
   "outputs": [
    {
     "name": "stdout",
     "output_type": "stream",
     "text": [
      "[[4676  927]\n",
      " [1046 1903]]\n",
      "Accuracy =  0.7692937324602432\n"
     ]
    }
   ],
   "source": [
    "y_pred=clf.predict(X_test)\n",
    "print(metrics.confusion_matrix(y_true = y_test, y_pred = y_pred))\n",
    "print('Accuracy = ', metrics.accuracy_score(y_true = y_test, y_pred = y_pred))"
   ]
  }
 ],
 "metadata": {
  "kernelspec": {
   "display_name": "Python 3 (ipykernel)",
   "language": "python",
   "name": "python3"
  },
  "language_info": {
   "codemirror_mode": {
    "name": "ipython",
    "version": 3
   },
   "file_extension": ".py",
   "mimetype": "text/x-python",
   "name": "python",
   "nbconvert_exporter": "python",
   "pygments_lexer": "ipython3",
   "version": "3.9.12"
  }
 },
 "nbformat": 4,
 "nbformat_minor": 5
}
